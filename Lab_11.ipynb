{
 "cells": [
  {
   "attachments": {},
   "cell_type": "markdown",
   "id": "8a4d01dc-8982-497d-9fda-08ae307e9121",
   "metadata": {
    "tags": []
   },
   "source": [
    "# Explaining Failures\n",
    "\n",
    "In this assignment, you will experiment with _explaining failures_ – specifically, correlating _input features_ with behavior such as failures.\n",
    "We start with our well-known `EXPR_GRAMMAR` and use it to detect features and failures."
   ]
  },
  {
   "attachments": {},
   "cell_type": "markdown",
   "id": "3bb8e5ea",
   "metadata": {},
   "source": [
    "## A Grammar for Expressions\n",
    "\n",
    "Again, we use the [Fuzzingbook format for grammars](https://www.fuzzingbook.org/html/Grammars.html), in which grammars are represented as dictionaries from symbols to lists of expansion alternatives."
   ]
  },
  {
   "cell_type": "code",
   "execution_count": 1,
   "id": "ed790ab2",
   "metadata": {},
   "outputs": [],
   "source": [
    "from fuzzingbook.Grammars import Grammar\n",
    "from fuzzingbook.Grammars import is_valid_grammar, convert_ebnf_grammar, extend_grammar"
   ]
  },
  {
   "cell_type": "code",
   "execution_count": 2,
   "id": "fcbd31c5",
   "metadata": {},
   "outputs": [],
   "source": [
    "from isla.solver import ISLaSolver"
   ]
  },
  {
   "cell_type": "code",
   "execution_count": 3,
   "id": "b31e6f51",
   "metadata": {},
   "outputs": [],
   "source": [
    "EXPR_GRAMMAR: Grammar = {\n",
    "    \"<start>\":\n",
    "        [\"<expr>\"],\n",
    "\n",
    "    \"<expr>\":\n",
    "        [\"<term> + <expr>\", \"<term> - <expr>\", \"<term>\"],\n",
    "\n",
    "    \"<term>\":\n",
    "        [\"<factor> * <term>\", \"<factor> / <term>\", \"<factor>\"],\n",
    "\n",
    "    \"<factor>\":\n",
    "        [\"+<factor>\",\n",
    "         \"-<factor>\",\n",
    "         \"(<expr>)\",\n",
    "         \"<integer>.<integer>\",\n",
    "         \"<integer>\"],\n",
    "\n",
    "    \"<integer>\":\n",
    "        [\"<digit><integer>\", \"<digit>\"],\n",
    "\n",
    "    \"<digit>\":\n",
    "        [\"0\", \"1\", \"2\", \"3\", \"4\", \"5\", \"6\", \"7\", \"8\", \"9\"]\n",
    "}"
   ]
  },
  {
   "cell_type": "code",
   "execution_count": 4,
   "id": "2e077c5b",
   "metadata": {},
   "outputs": [],
   "source": [
    "assert is_valid_grammar(EXPR_GRAMMAR)"
   ]
  },
  {
   "attachments": {},
   "cell_type": "markdown",
   "id": "2b0a6481",
   "metadata": {},
   "source": [
    "We can use this grammar to produce syntactically valid arithmetic expressions:"
   ]
  },
  {
   "cell_type": "code",
   "execution_count": 5,
   "id": "5423ad70",
   "metadata": {},
   "outputs": [
    {
     "name": "stdout",
     "output_type": "stream",
     "text": [
      "4.3 + 512 / -(7 / 6 - 0 / 9 * 1 * 1) * +8.3 / 7 * 4 / 6\n",
      "(4 / 7 + 1) / (4) / 9 / 8 + 4 / (3 + 6 - 7)\n",
      "+--(--(-9) * (4 * 7 + (4) + 4) + --(+(3)) - 6 + 0 / 7 + 7)\n",
      "(2 * 6 + 0 - 5) * 4 - +1 * (2 - 2) / 8 / 6\n",
      "(+-(0 - (1) * 7 / 3)) / ((1 * 3 + 8) + 9 - +1 / --0) - 5 * (-+939.491)\n",
      "+2.9 * 0 / 501.19814 / --+--(6.05002)\n",
      "+-8.8 / (1) * -+1 + -8 + 9 - 3 / 8 * 6 + 4 * 3 * 5\n",
      "(+(8 / 9 - 1 - 7)) + ---06.30 / +4.39\n",
      "8786.82 - +01.170 / 9.2 - +(7) + 1 * 9 - 0\n",
      "+-6 * 0 / 5 * (-(1.7 * +(-1 / +4.9 * 5 * 1 * 2) + -4.2 + (6 + -5) / (4 * 3 + 4)))\n"
     ]
    }
   ],
   "source": [
    "expr_solver = ISLaSolver(EXPR_GRAMMAR)\n",
    "for _ in range(10):\n",
    "    print(expr_solver.solve())"
   ]
  },
  {
   "cell_type": "markdown",
   "id": "c99d9a77",
   "metadata": {},
   "source": [
    "## Explaining Failures\n",
    "\n",
    "If we detect a failure, we can check whether there are specific _input features_ that correlate with failures. In this exercise, we will come up with a very simple, yet general kind of features, namely the presence or absence of individual language elements."
   ]
  },
  {
   "cell_type": "markdown",
   "id": "6d1f2a6c",
   "metadata": {},
   "source": [
    "Our plan is as follows. First, we will introduce some _predicates_ that check for the presence (or absence) of symbols in a derivation tree, This derivation tree can come from _producing_ inputs (i.e., fuzz them), or from _parsing_ inputs. Then, we establish _correlations_ between the presence (or absence) of elements and failures."
   ]
  },
  {
   "cell_type": "markdown",
   "id": "535f08e0",
   "metadata": {},
   "source": [
    "### Checking Features"
   ]
  },
  {
   "cell_type": "markdown",
   "id": "2aef9aaf",
   "metadata": {},
   "source": [
    "We start with _checking_ for individual symbols in a tree – say, the tree coming from parsing the expression `2 + 2`:"
   ]
  },
  {
   "cell_type": "code",
   "execution_count": 6,
   "id": "3f216cf5",
   "metadata": {},
   "outputs": [],
   "source": [
    "from fuzzingbook.GrammarFuzzer import display_tree"
   ]
  },
  {
   "cell_type": "code",
   "execution_count": 7,
   "id": "f63b5498",
   "metadata": {},
   "outputs": [
    {
     "data": {
      "image/svg+xml": [
       "<?xml version=\"1.0\" encoding=\"UTF-8\" standalone=\"no\"?>\n",
       "<!DOCTYPE svg PUBLIC \"-//W3C//DTD SVG 1.1//EN\"\n",
       " \"http://www.w3.org/Graphics/SVG/1.1/DTD/svg11.dtd\">\n",
       "<!-- Generated by graphviz version 8.0.4 (20230421.1958)\n",
       " -->\n",
       "<!-- Pages: 1 -->\n",
       "<svg width=\"155pt\" height=\"374pt\"\n",
       " viewBox=\"0.00 0.00 155.00 374.00\" xmlns=\"http://www.w3.org/2000/svg\" xmlns:xlink=\"http://www.w3.org/1999/xlink\">\n",
       "<g id=\"graph0\" class=\"graph\" transform=\"scale(1 1) rotate(0) translate(4 370)\">\n",
       "<polygon fill=\"white\" stroke=\"none\" points=\"-4,4 -4,-370 151,-370 151,4 -4,4\"/>\n",
       "<!-- 0 -->\n",
       "<g id=\"node1\" class=\"node\">\n",
       "<title>0</title>\n",
       "<text text-anchor=\"middle\" x=\"74\" y=\"-352.7\" font-family=\"Times,serif\" font-size=\"14.00\">&lt;start&gt;</text>\n",
       "</g>\n",
       "<!-- 1 -->\n",
       "<g id=\"node2\" class=\"node\">\n",
       "<title>1</title>\n",
       "<text text-anchor=\"middle\" x=\"74\" y=\"-302.45\" font-family=\"Times,serif\" font-size=\"14.00\">&lt;expr&gt;</text>\n",
       "</g>\n",
       "<!-- 0&#45;&gt;1 -->\n",
       "<g id=\"edge1\" class=\"edge\">\n",
       "<title>0&#45;&gt;1</title>\n",
       "<path fill=\"none\" stroke=\"black\" d=\"M74,-351.96C74,-345.66 74,-335.42 74,-326.58\"/>\n",
       "<polygon fill=\"black\" stroke=\"black\" points=\"77.5,-326.59 74,-316.59 70.5,-326.59 77.5,-326.59\"/>\n",
       "</g>\n",
       "<!-- 2 -->\n",
       "<g id=\"node3\" class=\"node\">\n",
       "<title>2</title>\n",
       "<text text-anchor=\"middle\" x=\"27\" y=\"-252.2\" font-family=\"Times,serif\" font-size=\"14.00\">&lt;term&gt;</text>\n",
       "</g>\n",
       "<!-- 1&#45;&gt;2 -->\n",
       "<g id=\"edge2\" class=\"edge\">\n",
       "<title>1&#45;&gt;2</title>\n",
       "<path fill=\"none\" stroke=\"black\" d=\"M68.24,-301.71C61.33,-294.62 49.54,-282.51 40.33,-273.06\"/>\n",
       "<polygon fill=\"black\" stroke=\"black\" points=\"43.3,-271.06 33.81,-266.34 38.28,-275.95 43.3,-271.06\"/>\n",
       "</g>\n",
       "<!-- 7 -->\n",
       "<g id=\"node8\" class=\"node\">\n",
       "<title>7</title>\n",
       "<text text-anchor=\"middle\" x=\"74\" y=\"-252.2\" font-family=\"Times,serif\" font-size=\"14.00\"> + </text>\n",
       "</g>\n",
       "<!-- 1&#45;&gt;7 -->\n",
       "<g id=\"edge7\" class=\"edge\">\n",
       "<title>1&#45;&gt;7</title>\n",
       "<path fill=\"none\" stroke=\"black\" d=\"M74,-301.71C74,-295.41 74,-285.17 74,-276.33\"/>\n",
       "<polygon fill=\"black\" stroke=\"black\" points=\"77.5,-276.34 74,-266.34 70.5,-276.34 77.5,-276.34\"/>\n",
       "</g>\n",
       "<!-- 8 -->\n",
       "<g id=\"node9\" class=\"node\">\n",
       "<title>8</title>\n",
       "<text text-anchor=\"middle\" x=\"120\" y=\"-252.2\" font-family=\"Times,serif\" font-size=\"14.00\">&lt;expr&gt;</text>\n",
       "</g>\n",
       "<!-- 1&#45;&gt;8 -->\n",
       "<g id=\"edge8\" class=\"edge\">\n",
       "<title>1&#45;&gt;8</title>\n",
       "<path fill=\"none\" stroke=\"black\" d=\"M79.64,-301.71C86.4,-294.62 97.94,-282.51 106.96,-273.06\"/>\n",
       "<polygon fill=\"black\" stroke=\"black\" points=\"108.95,-275.99 113.31,-266.34 103.88,-271.16 108.95,-275.99\"/>\n",
       "</g>\n",
       "<!-- 3 -->\n",
       "<g id=\"node4\" class=\"node\">\n",
       "<title>3</title>\n",
       "<text text-anchor=\"middle\" x=\"27\" y=\"-201.95\" font-family=\"Times,serif\" font-size=\"14.00\">&lt;factor&gt;</text>\n",
       "</g>\n",
       "<!-- 2&#45;&gt;3 -->\n",
       "<g id=\"edge3\" class=\"edge\">\n",
       "<title>2&#45;&gt;3</title>\n",
       "<path fill=\"none\" stroke=\"black\" d=\"M27,-251.46C27,-245.16 27,-234.92 27,-226.08\"/>\n",
       "<polygon fill=\"black\" stroke=\"black\" points=\"30.5,-226.09 27,-216.09 23.5,-226.09 30.5,-226.09\"/>\n",
       "</g>\n",
       "<!-- 4 -->\n",
       "<g id=\"node5\" class=\"node\">\n",
       "<title>4</title>\n",
       "<text text-anchor=\"middle\" x=\"27\" y=\"-151.7\" font-family=\"Times,serif\" font-size=\"14.00\">&lt;integer&gt;</text>\n",
       "</g>\n",
       "<!-- 3&#45;&gt;4 -->\n",
       "<g id=\"edge4\" class=\"edge\">\n",
       "<title>3&#45;&gt;4</title>\n",
       "<path fill=\"none\" stroke=\"black\" d=\"M27,-201.21C27,-194.91 27,-184.67 27,-175.83\"/>\n",
       "<polygon fill=\"black\" stroke=\"black\" points=\"30.5,-175.84 27,-165.84 23.5,-175.84 30.5,-175.84\"/>\n",
       "</g>\n",
       "<!-- 5 -->\n",
       "<g id=\"node6\" class=\"node\">\n",
       "<title>5</title>\n",
       "<text text-anchor=\"middle\" x=\"27\" y=\"-101.45\" font-family=\"Times,serif\" font-size=\"14.00\">&lt;digit&gt;</text>\n",
       "</g>\n",
       "<!-- 4&#45;&gt;5 -->\n",
       "<g id=\"edge5\" class=\"edge\">\n",
       "<title>4&#45;&gt;5</title>\n",
       "<path fill=\"none\" stroke=\"black\" d=\"M27,-150.96C27,-144.66 27,-134.42 27,-125.58\"/>\n",
       "<polygon fill=\"black\" stroke=\"black\" points=\"30.5,-125.59 27,-115.59 23.5,-125.59 30.5,-125.59\"/>\n",
       "</g>\n",
       "<!-- 6 -->\n",
       "<g id=\"node7\" class=\"node\">\n",
       "<title>6</title>\n",
       "<text text-anchor=\"middle\" x=\"27\" y=\"-51.2\" font-family=\"Times,serif\" font-size=\"14.00\">2 (50)</text>\n",
       "</g>\n",
       "<!-- 5&#45;&gt;6 -->\n",
       "<g id=\"edge6\" class=\"edge\">\n",
       "<title>5&#45;&gt;6</title>\n",
       "<path fill=\"none\" stroke=\"black\" d=\"M27,-100.71C27,-94.41 27,-84.17 27,-75.33\"/>\n",
       "<polygon fill=\"black\" stroke=\"black\" points=\"30.5,-75.34 27,-65.34 23.5,-75.34 30.5,-75.34\"/>\n",
       "</g>\n",
       "<!-- 9 -->\n",
       "<g id=\"node10\" class=\"node\">\n",
       "<title>9</title>\n",
       "<text text-anchor=\"middle\" x=\"120\" y=\"-201.95\" font-family=\"Times,serif\" font-size=\"14.00\">&lt;term&gt;</text>\n",
       "</g>\n",
       "<!-- 8&#45;&gt;9 -->\n",
       "<g id=\"edge9\" class=\"edge\">\n",
       "<title>8&#45;&gt;9</title>\n",
       "<path fill=\"none\" stroke=\"black\" d=\"M120,-251.46C120,-245.16 120,-234.92 120,-226.08\"/>\n",
       "<polygon fill=\"black\" stroke=\"black\" points=\"123.5,-226.09 120,-216.09 116.5,-226.09 123.5,-226.09\"/>\n",
       "</g>\n",
       "<!-- 10 -->\n",
       "<g id=\"node11\" class=\"node\">\n",
       "<title>10</title>\n",
       "<text text-anchor=\"middle\" x=\"120\" y=\"-151.7\" font-family=\"Times,serif\" font-size=\"14.00\">&lt;factor&gt;</text>\n",
       "</g>\n",
       "<!-- 9&#45;&gt;10 -->\n",
       "<g id=\"edge10\" class=\"edge\">\n",
       "<title>9&#45;&gt;10</title>\n",
       "<path fill=\"none\" stroke=\"black\" d=\"M120,-201.21C120,-194.91 120,-184.67 120,-175.83\"/>\n",
       "<polygon fill=\"black\" stroke=\"black\" points=\"123.5,-175.84 120,-165.84 116.5,-175.84 123.5,-175.84\"/>\n",
       "</g>\n",
       "<!-- 11 -->\n",
       "<g id=\"node12\" class=\"node\">\n",
       "<title>11</title>\n",
       "<text text-anchor=\"middle\" x=\"120\" y=\"-101.45\" font-family=\"Times,serif\" font-size=\"14.00\">&lt;integer&gt;</text>\n",
       "</g>\n",
       "<!-- 10&#45;&gt;11 -->\n",
       "<g id=\"edge11\" class=\"edge\">\n",
       "<title>10&#45;&gt;11</title>\n",
       "<path fill=\"none\" stroke=\"black\" d=\"M120,-150.96C120,-144.66 120,-134.42 120,-125.58\"/>\n",
       "<polygon fill=\"black\" stroke=\"black\" points=\"123.5,-125.59 120,-115.59 116.5,-125.59 123.5,-125.59\"/>\n",
       "</g>\n",
       "<!-- 12 -->\n",
       "<g id=\"node13\" class=\"node\">\n",
       "<title>12</title>\n",
       "<text text-anchor=\"middle\" x=\"120\" y=\"-51.2\" font-family=\"Times,serif\" font-size=\"14.00\">&lt;digit&gt;</text>\n",
       "</g>\n",
       "<!-- 11&#45;&gt;12 -->\n",
       "<g id=\"edge12\" class=\"edge\">\n",
       "<title>11&#45;&gt;12</title>\n",
       "<path fill=\"none\" stroke=\"black\" d=\"M120,-100.71C120,-94.41 120,-84.17 120,-75.33\"/>\n",
       "<polygon fill=\"black\" stroke=\"black\" points=\"123.5,-75.34 120,-65.34 116.5,-75.34 123.5,-75.34\"/>\n",
       "</g>\n",
       "<!-- 13 -->\n",
       "<g id=\"node14\" class=\"node\">\n",
       "<title>13</title>\n",
       "<text text-anchor=\"middle\" x=\"120\" y=\"-0.95\" font-family=\"Times,serif\" font-size=\"14.00\">2 (50)</text>\n",
       "</g>\n",
       "<!-- 12&#45;&gt;13 -->\n",
       "<g id=\"edge13\" class=\"edge\">\n",
       "<title>12&#45;&gt;13</title>\n",
       "<path fill=\"none\" stroke=\"black\" d=\"M120,-50.46C120,-44.16 120,-33.92 120,-25.08\"/>\n",
       "<polygon fill=\"black\" stroke=\"black\" points=\"123.5,-25.09 120,-15.09 116.5,-25.09 123.5,-25.09\"/>\n",
       "</g>\n",
       "</g>\n",
       "</svg>\n"
      ],
      "text/plain": [
       "<graphviz.graphs.Digraph at 0x116ef0460>"
      ]
     },
     "execution_count": 7,
     "metadata": {},
     "output_type": "execute_result"
    }
   ],
   "source": [
    "expr_solver = ISLaSolver(EXPR_GRAMMAR)\n",
    "expr_tree = expr_solver.parse('2 + 2')\n",
    "display_tree(expr_tree)"
   ]
  },
  {
   "cell_type": "markdown",
   "id": "7146466b",
   "metadata": {},
   "source": [
    "We define a function `has_element()` which checks if a particular element (a symbol or expansion from the grammar rules) occurs in the derivation tree.\n",
    "For the above tree `expr_tree`, `has_element()` should return `True` for elements such as\n",
    "\n",
    "* `'<digit>'` - a _nonterminal_ from `EXPR_GRAMMAR`\n",
    "* `'2'` - a _terminal_ (and possible expansion) from `EXPR_GRAMMAR`\n",
    "* `'<term> + <expr>'` – an _expansion_ from `EXPR_GRAMMAR`\n",
    "\n",
    "as they occur in `expr_tree`; and `False` for queries such as\n",
    "\n",
    "* `'7'` - does not occur in `expr_tree`\n",
    "* `'<expr> + <term>'` - does not occur in `expr_tree` (and not in `EXPR_GRAMMAR`)"
   ]
  },
  {
   "cell_type": "code",
   "execution_count": 8,
   "id": "b1327033",
   "metadata": {},
   "outputs": [
    {
     "data": {
      "text/plain": [
       "'<start>'"
      ]
     },
     "execution_count": 8,
     "metadata": {},
     "output_type": "execute_result"
    }
   ],
   "source": [
    "expr_tree.value"
   ]
  },
  {
   "cell_type": "code",
   "execution_count": 9,
   "id": "a0939e97",
   "metadata": {},
   "outputs": [
    {
     "data": {
      "text/plain": [
       "' + '"
      ]
     },
     "execution_count": 9,
     "metadata": {},
     "output_type": "execute_result"
    }
   ],
   "source": [
    "expr_tree.children[0].children[1].value"
   ]
  },
  {
   "cell_type": "code",
   "execution_count": 10,
   "id": "dc70efad",
   "metadata": {},
   "outputs": [],
   "source": [
    "def has_element(tree, element) -> bool:\n",
    "    \"\"\"Return True iff `element` occurs in `tree`.\n",
    "    `element` can any symbol or expansion from a grammar\"\"\"\n",
    "    if element == tree.value:\n",
    "        return True  # match nonterminal\n",
    "\n",
    "    expanded_children = ''\n",
    "    for c in tree.children:\n",
    "        expanded_children += c.value\n",
    "    if element == expanded_children:\n",
    "        return True  # match expansion\n",
    "\n",
    "    for c in tree.children:\n",
    "        if has_element(c, element):\n",
    "            return True\n",
    "\n",
    "    return False"
   ]
  },
  {
   "cell_type": "code",
   "execution_count": 11,
   "id": "898aa017",
   "metadata": {},
   "outputs": [
    {
     "data": {
      "text/plain": [
       "True"
      ]
     },
     "execution_count": 11,
     "metadata": {},
     "output_type": "execute_result"
    }
   ],
   "source": [
    "has_element(expr_tree, '<digit>')"
   ]
  },
  {
   "cell_type": "code",
   "execution_count": 12,
   "id": "5a028369",
   "metadata": {},
   "outputs": [
    {
     "data": {
      "text/plain": [
       "True"
      ]
     },
     "execution_count": 12,
     "metadata": {},
     "output_type": "execute_result"
    }
   ],
   "source": [
    "has_element(expr_tree, '2')"
   ]
  },
  {
   "cell_type": "code",
   "execution_count": 13,
   "id": "35c6854c",
   "metadata": {},
   "outputs": [
    {
     "data": {
      "text/plain": [
       "True"
      ]
     },
     "execution_count": 13,
     "metadata": {},
     "output_type": "execute_result"
    }
   ],
   "source": [
    "has_element(expr_tree, '<term> + <expr>')"
   ]
  },
  {
   "cell_type": "code",
   "execution_count": 14,
   "id": "66976845",
   "metadata": {},
   "outputs": [
    {
     "data": {
      "text/plain": [
       "False"
      ]
     },
     "execution_count": 14,
     "metadata": {},
     "output_type": "execute_result"
    }
   ],
   "source": [
    "has_element(expr_tree, '7')"
   ]
  },
  {
   "cell_type": "code",
   "execution_count": 15,
   "id": "6f5ba1d8",
   "metadata": {},
   "outputs": [
    {
     "data": {
      "text/plain": [
       "False"
      ]
     },
     "execution_count": 15,
     "metadata": {},
     "output_type": "execute_result"
    }
   ],
   "source": [
    "has_element(expr_tree, '<expr> + <term>')"
   ]
  },
  {
   "cell_type": "markdown",
   "id": "c3d6699c",
   "metadata": {},
   "source": [
    "Note that matching only goes one level deep. Hence, the following holds:"
   ]
  },
  {
   "cell_type": "code",
   "execution_count": 16,
   "id": "3209ab10",
   "metadata": {},
   "outputs": [
    {
     "data": {
      "text/plain": [
       "False"
      ]
     },
     "execution_count": 16,
     "metadata": {},
     "output_type": "execute_result"
    }
   ],
   "source": [
    "has_element(expr_tree, '2 + 2')"
   ]
  },
  {
   "cell_type": "markdown",
   "id": "0c6c454e",
   "metadata": {},
   "source": [
    "### Checking all Features"
   ]
  },
  {
   "cell_type": "markdown",
   "id": "707c117d",
   "metadata": {},
   "source": [
    "For a given grammar, let us now check which of its symbols and expansions actually are present in a derivation tree. We could do so by checking all elements of the grammar with `has_element()`, but we can actually derive the set from a derivation tree alone:"
   ]
  },
  {
   "cell_type": "code",
   "execution_count": 17,
   "id": "d64cdc62",
   "metadata": {},
   "outputs": [],
   "source": [
    "def all_elements(tree):\n",
    "    \"\"\"Returns the set of all elements (nonterminals or expansions) occurring in `tree`\"\"\"\n",
    "    elements = {tree.value}\n",
    "\n",
    "    expanded_children = ''\n",
    "    for c in tree.children:\n",
    "        expanded_children += c.value\n",
    "    elements.add(expanded_children)\n",
    "\n",
    "    for c in tree.children:\n",
    "        elements |= all_elements(c)\n",
    "\n",
    "    return elements"
   ]
  },
  {
   "cell_type": "code",
   "execution_count": 18,
   "id": "9ca5c267",
   "metadata": {},
   "outputs": [
    {
     "data": {
      "text/plain": [
       "{'',\n",
       " ' + ',\n",
       " '2',\n",
       " '<digit>',\n",
       " '<expr>',\n",
       " '<factor>',\n",
       " '<integer>',\n",
       " '<start>',\n",
       " '<term>',\n",
       " '<term> + <expr>'}"
      ]
     },
     "execution_count": 18,
     "metadata": {},
     "output_type": "execute_result"
    }
   ],
   "source": [
    "all_elements(expr_tree)"
   ]
  },
  {
   "cell_type": "code",
   "execution_count": 19,
   "id": "18316ac6",
   "metadata": {},
   "outputs": [],
   "source": [
    "for e in all_elements(expr_tree):\n",
    "    assert has_element(expr_tree, e)"
   ]
  },
  {
   "cell_type": "markdown",
   "id": "9bd20d09",
   "metadata": {},
   "source": [
    "We can also easily extract all elements from a grammar:"
   ]
  },
  {
   "cell_type": "code",
   "execution_count": 20,
   "id": "599175c3",
   "metadata": {},
   "outputs": [],
   "source": [
    "def all_grammar_elements(grammar):\n",
    "    elements = set(grammar.keys())\n",
    "    for k in grammar.keys():\n",
    "        elements |= set(grammar[k])\n",
    "    return elements"
   ]
  },
  {
   "cell_type": "code",
   "execution_count": 21,
   "id": "5e58ab43",
   "metadata": {},
   "outputs": [
    {
     "data": {
      "text/plain": [
       "{'(<expr>)',\n",
       " '+<factor>',\n",
       " '-<factor>',\n",
       " '0',\n",
       " '1',\n",
       " '2',\n",
       " '3',\n",
       " '4',\n",
       " '5',\n",
       " '6',\n",
       " '7',\n",
       " '8',\n",
       " '9',\n",
       " '<digit>',\n",
       " '<digit><integer>',\n",
       " '<expr>',\n",
       " '<factor>',\n",
       " '<factor> * <term>',\n",
       " '<factor> / <term>',\n",
       " '<integer>',\n",
       " '<integer>.<integer>',\n",
       " '<start>',\n",
       " '<term>',\n",
       " '<term> + <expr>',\n",
       " '<term> - <expr>'}"
      ]
     },
     "execution_count": 21,
     "metadata": {},
     "output_type": "execute_result"
    }
   ],
   "source": [
    "all_grammar_elements(EXPR_GRAMMAR)"
   ]
  },
  {
   "cell_type": "markdown",
   "id": "2a0de767",
   "metadata": {},
   "source": [
    "Note how `all_elements()` overapproximates over `all_grammar_elements()`: it also lists `' + '` as a terminal symbol, although this is not an explicit expansion in `EXPR_GRAMMAR`. We can remedy this by computing the intersection of both sets."
   ]
  },
  {
   "cell_type": "code",
   "execution_count": 22,
   "id": "f8fe3c9d",
   "metadata": {},
   "outputs": [
    {
     "data": {
      "text/plain": [
       "{'2',\n",
       " '<digit>',\n",
       " '<expr>',\n",
       " '<factor>',\n",
       " '<integer>',\n",
       " '<start>',\n",
       " '<term>',\n",
       " '<term> + <expr>'}"
      ]
     },
     "execution_count": 22,
     "metadata": {},
     "output_type": "execute_result"
    }
   ],
   "source": [
    "all_elements(expr_tree) & all_grammar_elements(EXPR_GRAMMAR)"
   ]
  },
  {
   "cell_type": "markdown",
   "id": "cd17c141",
   "metadata": {},
   "source": [
    "### Relating Features and Failures"
   ]
  },
  {
   "cell_type": "markdown",
   "id": "4160b023",
   "metadata": {},
   "source": [
    "We now will determine a number of passing and failing inputs, and determine their common features."
   ]
  },
  {
   "cell_type": "code",
   "execution_count": 23,
   "id": "4159e370",
   "metadata": {},
   "outputs": [],
   "source": [
    "SAMPLE_SIZE = 1000\n",
    "labeled_inputs = {}"
   ]
  },
  {
   "cell_type": "code",
   "execution_count": 24,
   "id": "f3ad28aa",
   "metadata": {},
   "outputs": [],
   "source": [
    "solver = ISLaSolver(EXPR_GRAMMAR, max_number_free_instantiations=SAMPLE_SIZE)\n",
    "for i in range(SAMPLE_SIZE):\n",
    "    random_expr = solver.solve()\n",
    "    try:\n",
    "        eval(str(random_expr))\n",
    "    except Exception as exc:\n",
    "        label = str(exc)\n",
    "    else:\n",
    "        label = 'pass'\n",
    "\n",
    "    if label not in labeled_inputs:\n",
    "        labeled_inputs[label] = []\n",
    "    labeled_inputs[label].append(random_expr)"
   ]
  },
  {
   "cell_type": "code",
   "execution_count": 25,
   "id": "779dcc8d",
   "metadata": {},
   "outputs": [
    {
     "data": {
      "text/plain": [
       "dict_keys(['pass', 'float division by zero', 'division by zero', 'leading zeros in decimal integer literals are not permitted; use an 0o prefix for octal integers (<string>, line 1)'])"
      ]
     },
     "execution_count": 25,
     "metadata": {},
     "output_type": "execute_result"
    }
   ],
   "source": [
    "labeled_inputs.keys()"
   ]
  },
  {
   "cell_type": "code",
   "execution_count": 26,
   "id": "43b23439",
   "metadata": {},
   "outputs": [
    {
     "name": "stdout",
     "output_type": "stream",
     "text": [
      "(30) / 0 * 7 / 2 - -1 - 7 * 6 + 3 * 9 + 8\n",
      "(-7 / 0 * 7) * ++7 / 1.2 + (8) + -+6 * -6 * 1\n",
      "3 * 0 / (5 * 0) + 3 - 2 + 3 * 1 * 1 / 3\n",
      "3499 + (6 * 3 / 0) / 78.9 - ((3 + 4) - 1) / 7\n",
      "9955643 - (6 + 0 + 1) / +1 / 3 / 1 * 5 - ++(0 / 0 + 5) / +6.03\n",
      "95.2 + +(7 + 4) * 2 / 0 - 2 / 9 - 9 + 1\n",
      "++(8 / 0 - 6) / 7 + ++-+(8 + 6 / 2) * -+6 / +3 / 0.2\n",
      "-((3 + 9 + 8 - 9) * -(6) + 9) / 0 / 01.0 + 61 / -1\n",
      "(+(5) * 7 / 3 + 3 / 0 * 8 * 1) / --05.68 - 2663 / --96\n",
      "673 * 5 * 4 / 0 - 2 / ++(0 - 9) / 9\n"
     ]
    }
   ],
   "source": [
    "for tree in labeled_inputs['division by zero'][:10]:\n",
    "    print(tree)"
   ]
  },
  {
   "cell_type": "markdown",
   "id": "a374a3f3",
   "metadata": {},
   "source": [
    "Let us find out whether these have any common features:"
   ]
  },
  {
   "cell_type": "code",
   "execution_count": 27,
   "id": "0c6b5963",
   "metadata": {},
   "outputs": [],
   "source": [
    "def print_common_elements(labeled_inputs, grammar):\n",
    "    for category in labeled_inputs.keys():\n",
    "        common_elements = all_grammar_elements(grammar)\n",
    "        for tree in labeled_inputs[category]:\n",
    "            common_elements &= all_elements(tree)\n",
    "        print(f'{category}: {common_elements}')"
   ]
  },
  {
   "cell_type": "code",
   "execution_count": 28,
   "id": "548946fd",
   "metadata": {},
   "outputs": [
    {
     "name": "stdout",
     "output_type": "stream",
     "text": [
      "pass: {'<term>', '<factor>', '<expr>', '<start>', '<integer>', '<digit>'}\n",
      "float division by zero: {'<term>', '<factor> / <term>', '<factor>', '<expr>', '<start>', '<integer>', '<digit>'}\n",
      "division by zero: {'<term>', '<factor> / <term>', '<factor>', '<expr>', '0', '<start>', '<integer>', '<digit>'}\n",
      "leading zeros in decimal integer literals are not permitted; use an 0o prefix for octal integers (<string>, line 1): {'<term>', '<digit><integer>', '<factor>', '<expr>', '0', '<start>', '<integer>', '<digit>'}\n"
     ]
    }
   ],
   "source": [
    "print_common_elements(labeled_inputs, EXPR_GRAMMAR)"
   ]
  },
  {
   "cell_type": "markdown",
   "id": "80f4b2c7",
   "metadata": {},
   "source": [
    "This is pretty interesting already - but actually, we need not care about the elements that already occur in all passing expressions. Instead, we can focus on the _difference_. For this, we determine the elements common to all passing runs:"
   ]
  },
  {
   "cell_type": "code",
   "execution_count": 29,
   "id": "70e15fce",
   "metadata": {},
   "outputs": [
    {
     "data": {
      "text/plain": [
       "{'<digit>', '<expr>', '<factor>', '<integer>', '<start>', '<term>'}"
      ]
     },
     "execution_count": 29,
     "metadata": {},
     "output_type": "execute_result"
    }
   ],
   "source": [
    "common_pass_elements = all_grammar_elements(EXPR_GRAMMAR)\n",
    "for tree in labeled_inputs['pass']:\n",
    "    common_pass_elements &= all_elements(tree)\n",
    "common_pass_elements"
   ]
  },
  {
   "cell_type": "markdown",
   "id": "c2a298b0",
   "metadata": {},
   "source": [
    "Let us remove these from our listing."
   ]
  },
  {
   "cell_type": "markdown",
   "id": "5f85c809",
   "metadata": {},
   "source": [
    "**Assignment 1.** Adapt `print_common_elements()`, above, into a new function `print_diff_elements()`, which skips common passing elements in the given `grammar`. Also skip the `pass` category."
   ]
  },
  {
   "cell_type": "code",
   "execution_count": 30,
   "id": "82d23a2b",
   "metadata": {},
   "outputs": [],
   "source": [
    "def print_diff_elements(labeled_inputs, grammar):\n",
    "    common_pass_elements = all_grammar_elements(grammar)\n",
    "    ...  # <-- expand code here"
   ]
  },
  {
   "cell_type": "markdown",
   "id": "97906902",
   "metadata": {},
   "source": [
    "Here is an example:"
   ]
  },
  {
   "cell_type": "code",
   "execution_count": 32,
   "id": "c26b5422",
   "metadata": {},
   "outputs": [
    {
     "name": "stdout",
     "output_type": "stream",
     "text": [
      "pass: set()\n",
      "float division by zero: {'<factor> / <term>'}\n",
      "division by zero: {'0', '<factor> / <term>'}\n",
      "leading zeros in decimal integer literals are not permitted; use an 0o prefix for octal integers (<string>, line 1): {'0', '<digit><integer>'}\n"
     ]
    }
   ],
   "source": [
    "print_diff_elements(labeled_inputs, EXPR_GRAMMAR)"
   ]
  },
  {
   "cell_type": "markdown",
   "id": "7942b023",
   "metadata": {},
   "source": [
    "We now see the common elements across all failure categories: for divisions by zero, it is `<factor> / <term>`; for leading zeros, it is `0` and `<digit><integer>`. If the failure categories were not already self-explanatory, these common features would still give us important hints on how the failure comes to be."
   ]
  },
  {
   "cell_type": "markdown",
   "id": "450fd21e",
   "metadata": {},
   "source": [
    "But how about the digit `0` (zero)? Shouldn't it be listed in the \"division by zero\" category, too? No, because there are ways to generate a division by zero without the digit `0` - say, `1 / (1 - 1)`. Still, the presence of a zero digit still strongly correlates with failure. Let's see if we can extract these."
   ]
  },
  {
   "cell_type": "markdown",
   "id": "5d788475",
   "metadata": {},
   "source": [
    "### The Ochiai Metric\n",
    "\n",
    "The _Ochiai_ Metric (Ochiai 1957) first introduced in the biology domain (daSilvaMeyer, 2004) and later applied for fault localization by Abreu et al. (2009), can be used to determine the _suspiciousness_ of a feature – that is, how much it correlates with failures (and not with non-failures). It is defined as follows:\n",
    "\n",
    "$$\n",
    "\\textit{suspiciousness}_\\textit{ochiai} = \\frac\n",
    "{\\textit{failed}(\\textit{event})}\n",
    "{\\sqrt{\n",
    "\\bigl(\\textit{failed}(\\textit{event}) + \\textit{not-in-failed}(\\textit{event})\\bigr)\n",
    "\\times\n",
    "\\bigl(\\textit{failed}(\\textit{event}) + \\textit{passed}(\\textit{event})\\bigr)\n",
    "}}\n",
    "$$\n",
    "\n",
    "where\n",
    "\n",
    "* $\\textit{failed}(\\textit{event})$ is the number of times the event occurred in _failing_ runs\n",
    "* $\\textit{not-in-failed}(\\textit{event})$ is the number of times the event did _not_ occur in failing runs\n",
    "* $\\textit{passed}(\\textit{event})$ is the number of times the event occurred in _passing_ runs.\n",
    "\n",
    "We can easily implement this formula:"
   ]
  },
  {
   "cell_type": "code",
   "execution_count": 33,
   "id": "2c6d5214",
   "metadata": {},
   "outputs": [],
   "source": [
    "import math"
   ]
  },
  {
   "cell_type": "code",
   "execution_count": 34,
   "id": "4e96ed1b",
   "metadata": {},
   "outputs": [],
   "source": [
    "def suspiciousness(element, labeled_inputs, category):\n",
    "    passed = 0\n",
    "    for tree in labeled_inputs['pass']:\n",
    "        if has_element(tree, element):\n",
    "            passed += 1\n",
    "\n",
    "    failed = 0\n",
    "    not_in_failed = 0\n",
    "    for tree in labeled_inputs[category]:\n",
    "        if has_element(tree, element):\n",
    "            failed += 1\n",
    "        else:\n",
    "            not_in_failed += 1\n",
    "\n",
    "    try:\n",
    "        return failed / math.sqrt((failed + not_in_failed) * (failed + passed))\n",
    "    except ZeroDivisionError:\n",
    "        return None"
   ]
  },
  {
   "cell_type": "markdown",
   "id": "e20d7c6a",
   "metadata": {},
   "source": [
    "Let us check a few suspiciousness scores for the `division by zero` category. Here's a first score for division:"
   ]
  },
  {
   "cell_type": "code",
   "execution_count": 35,
   "id": "f1c469f6",
   "metadata": {},
   "outputs": [
    {
     "data": {
      "text/plain": [
       "0.28927842707018586"
      ]
     },
     "execution_count": 35,
     "metadata": {},
     "output_type": "execute_result"
    }
   ],
   "source": [
    "suspiciousness('<factor> / <term>', labeled_inputs, 'division by zero')"
   ]
  },
  {
   "cell_type": "markdown",
   "id": "e4ec5193",
   "metadata": {},
   "source": [
    "Is this a lot? Or not much? Suspiciousness is a _relative_ measure – so let's compare it against others. For instance, division is more suspicious than addition..."
   ]
  },
  {
   "cell_type": "code",
   "execution_count": 36,
   "id": "5e1100b3",
   "metadata": {},
   "outputs": [
    {
     "data": {
      "text/plain": [
       "0.27523648750864216"
      ]
     },
     "execution_count": 36,
     "metadata": {},
     "output_type": "execute_result"
    }
   ],
   "source": [
    "suspiciousness('<term> + <expr>', labeled_inputs, 'division by zero')"
   ]
  },
  {
   "cell_type": "markdown",
   "id": "0f94da33",
   "metadata": {},
   "source": [
    "... or like the digit `9`, for instance:"
   ]
  },
  {
   "cell_type": "code",
   "execution_count": 37,
   "id": "ea708726",
   "metadata": {},
   "outputs": [
    {
     "data": {
      "text/plain": [
       "0.19834081894499206"
      ]
     },
     "execution_count": 37,
     "metadata": {},
     "output_type": "execute_result"
    }
   ],
   "source": [
    "suspiciousness('9', labeled_inputs, 'division by zero')"
   ]
  },
  {
   "cell_type": "markdown",
   "id": "0ad3df52",
   "metadata": {},
   "source": [
    "The digit zero, however, has the highest suspiciousness."
   ]
  },
  {
   "cell_type": "code",
   "execution_count": 42,
   "id": "0c4280b6",
   "metadata": {},
   "outputs": [
    {
     "data": {
      "text/plain": [
       "0.3290945898939588"
      ]
     },
     "execution_count": 42,
     "metadata": {},
     "output_type": "execute_result"
    }
   ],
   "source": [
    "suspiciousness('0', labeled_inputs, 'division by zero')"
   ]
  },
  {
   "cell_type": "markdown",
   "id": "d109fa06",
   "metadata": {},
   "source": [
    "**Assignment 2.** Implement a function `print_suspiciousness(labeled_inputs, grammar)` that takes as input \n",
    "\n",
    "* `labeled_inputs`: a mapping of failure categories (strings) to lists of derivation trees exposing this failure category - e.g. `labeled_inputs` as defined above.\n",
    "* `grammar`: a grammar such as `EXPR_GRAMMAR`.\n",
    "\n",
    "For each category and each grammar element, have `print_suspiciousness()` print out the element and its suspiciousness. Do not list the `pass` category and omit the elements common to all passing runs (as `common_pass_elements`), above.\n",
    "\n",
    "**Bonus**: _Sort_ the output such that elements with the highest suspiciousness come first, and have an optional paremeter `n` limit the output to `n` most suspicious elements. Format the output nicely."
   ]
  },
  {
   "cell_type": "code",
   "execution_count": 39,
   "id": "6951fd41",
   "metadata": {},
   "outputs": [],
   "source": [
    "def print_suspiciousness(labeled_inputs, grammar):\n",
    "    common_pass_elements = all_grammar_elements(EXPR_GRAMMAR)\n",
    "    for tree in labeled_inputs['pass']:\n",
    "        common_pass_elements &= all_elements(tree)\n",
    "\n",
    "    for category in labeled_inputs.keys():\n",
    "        if category == 'pass':\n",
    "            continue\n",
    "        ...  # <-- your code goes here"
   ]
  },
  {
   "cell_type": "markdown",
   "id": "ba368f19",
   "metadata": {},
   "source": [
    "Here is a trial run of `print_suspiciousness()`, listing the five most suspicious elements:"
   ]
  },
  {
   "cell_type": "code",
   "execution_count": 60,
   "id": "b838b290",
   "metadata": {},
   "outputs": [
    {
     "name": "stdout",
     "output_type": "stream",
     "text": [
      "float division by zero\n",
      "0                              0.37\n",
      "<factor> / <term>              0.33\n",
      "<factor> * <term>              0.31\n",
      "<integer>.<integer>            0.3\n",
      "<term> + <expr>                0.3\n",
      "\n",
      "division by zero\n",
      "0                              0.33\n",
      "<factor> / <term>              0.29\n",
      "<factor> * <term>              0.28\n",
      "<term> - <expr>                0.28\n",
      "(<expr>)                       0.28\n",
      "\n",
      "leading zeros in decimal integer literals are not permitted; use an 0o prefix for octal integers (<string>, line 1)\n",
      "0                              0.24\n",
      "<digit><integer>               0.22\n",
      "4                              0.21\n",
      "-<factor>                      0.19\n",
      "<factor> * <term>              0.19\n",
      "\n"
     ]
    }
   ],
   "source": [
    "print_suspiciousness(labeled_inputs, EXPR_GRAMMAR, n=5)"
   ]
  },
  {
   "cell_type": "markdown",
   "id": "f670b934",
   "metadata": {},
   "source": [
    "We see that zeroes are now listed as most suspicious for all errors, even they do not occur in _all_ division by zero runs. Divisions, as expected, are the second most suspicious feature for division by zero errors."
   ]
  },
  {
   "cell_type": "markdown",
   "id": "b89d950a",
   "metadata": {},
   "source": [
    "There are many ways to expand this – have more features to check, visualize suspiciousness, use classifiers from machine learning to distinguish failing from non-failing features, or have a reinforcement loop that generates more inputs (using ISLa) to support a hypothesis. Try this yourself!"
   ]
  }
 ],
 "metadata": {
  "kernelspec": {
   "display_name": "Python 3",
   "language": "python",
   "name": "python3"
  },
  "language_info": {
   "codemirror_mode": {
    "name": "ipython",
    "version": 3
   },
   "file_extension": ".py",
   "mimetype": "text/x-python",
   "name": "python",
   "nbconvert_exporter": "python",
   "pygments_lexer": "ipython3",
   "version": "3.10.2"
  }
 },
 "nbformat": 4,
 "nbformat_minor": 5
}
