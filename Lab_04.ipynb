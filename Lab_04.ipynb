{
 "cells": [
  {
   "attachments": {},
   "cell_type": "markdown",
   "id": "8a4d01dc-8982-497d-9fda-08ae307e9121",
   "metadata": {
    "tags": []
   },
   "source": [
    "# Testing Compilers\n",
    "\n",
    "**TODO**"
   ]
  }
 ],
 "metadata": {
  "kernelspec": {
   "display_name": "SBTD_Lab_04",
   "language": "python",
   "name": "sbtd_lab_04"
  },
  "language_info": {
   "codemirror_mode": {
    "name": "ipython",
    "version": 3
   },
   "file_extension": ".py",
   "mimetype": "text/x-python",
   "name": "python",
   "nbconvert_exporter": "python",
   "pygments_lexer": "ipython3",
   "version": "3.10.11"
  }
 },
 "nbformat": 4,
 "nbformat_minor": 5
}
